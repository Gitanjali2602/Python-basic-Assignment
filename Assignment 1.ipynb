{
 "cells": [
  {
   "cell_type": "markdown",
   "metadata": {},
   "source": [
    "# Assignment_1\n"
   ]
  },
  {
   "cell_type": "markdown",
   "metadata": {},
   "source": [
    "1.  In the below elements which of them are values or an expression? eg:- values can be integer or string and expressions will be mathematical operators.\n",
    "* \n",
    "'hello'\n",
    "-87.8\n",
    "- \n",
    "/ \n",
    "+\t\n",
    "6 "
   ]
  },
  {
   "cell_type": "markdown",
   "metadata": {},
   "source": [
    "Ans : \n",
    "Values  : 'hello' ,-87.8, 6 \n",
    "Expression : * ,-,/,+"
   ]
  },
  {
   "cell_type": "markdown",
   "metadata": {},
   "source": [
    "2. What is the difference between string and variable?"
   ]
  },
  {
   "cell_type": "markdown",
   "metadata": {},
   "source": [
    "String : \"string is sequence of character\". string is immutable, means it cant be change. it can be represented in single or double inverted comma.\n",
    "        e.g. \"Python\"\n",
    "        \n",
    "    \n",
    "Variale : \" variable means reserved location to store memory\" \n",
    "    e.g. x= 5   ; x is integer type variable\n",
    "        y ='python' ; y is string type variable\n",
    "        "
   ]
  },
  {
   "cell_type": "markdown",
   "metadata": {},
   "source": [
    "3. Describe three different data types."
   ]
  },
  {
   "cell_type": "markdown",
   "metadata": {},
   "source": [
    "1) interger : it will store intereger type data\n",
    "            e.g. x= 3 \n",
    "                 y = int(12.5)\n",
    "2) float : it will store float data.\n",
    "            e.g. a=10.3\n",
    "                    b = float (56)\n",
    "3) list : list is collection of any number of items with any data type (int,float ,list, tupel etc) .\n",
    "            represented in squre bracket []\n",
    "            e.g. lst = [1,2,3]\n",
    "            `lst2 = [1,'e',[1,3,5,6],\"hello python\"]"
   ]
  },
  {
   "cell_type": "markdown",
   "metadata": {},
   "source": [
    "4. What is an expression made up of? What do all expressions do?"
   ]
  },
  {
   "cell_type": "markdown",
   "metadata": {},
   "source": [
    "An expression is a combination of values, variables, and operators. Not every expression contain all these element.\n",
    "    e.g. 1+5 \n",
    "       a=15\n",
    "       b=a+10\n",
    "       "
   ]
  },
  {
   "cell_type": "markdown",
   "metadata": {},
   "source": [
    "5. This assignment statements, like spam = 10. What is the difference between an expression and a statement?"
   ]
  },
  {
   "cell_type": "code",
   "execution_count": null,
   "metadata": {},
   "outputs": [],
   "source": [
    "An expression is a combination of values, variables, and operators.\n",
    "        e.g. p = a +12\n",
    "and Statements represent an action or command e.g print statements, assignment statements\n",
    "        e.g. print (\"hello python\")"
   ]
  },
  {
   "cell_type": "markdown",
   "metadata": {},
   "source": [
    "6. After running the following code, what does the variable bacon contain?\n",
    "bacon = 22\n",
    "bacon + 1\n"
   ]
  },
  {
   "cell_type": "markdown",
   "metadata": {},
   "source": [
    "Ans -> 23\n"
   ]
  },
  {
   "cell_type": "code",
   "execution_count": null,
   "metadata": {},
   "outputs": [],
   "source": []
  }
 ],
 "metadata": {
  "kernelspec": {
   "display_name": "Python 3",
   "language": "python",
   "name": "python3"
  },
  "language_info": {
   "codemirror_mode": {
    "name": "ipython",
    "version": 3
   },
   "file_extension": ".py",
   "mimetype": "text/x-python",
   "name": "python",
   "nbconvert_exporter": "python",
   "pygments_lexer": "ipython3",
   "version": "3.6.5"
  }
 },
 "nbformat": 4,
 "nbformat_minor": 2
}
