{
 "cells": [
  {
   "cell_type": "markdown",
   "metadata": {},
   "source": [
    "# Assignment_2"
   ]
  },
  {
   "cell_type": "markdown",
   "metadata": {},
   "source": [
    "1.What are the two values of the Boolean data type? How do you write them?"
   ]
  },
  {
   "cell_type": "markdown",
   "metadata": {},
   "source": [
    "values of the Boolean data type :   1) True\n",
    "                                    2) False\n",
    "        eg. print (9<0)\n",
    "            ->  False\n",
    "            print(10<100)\n",
    "            -> True\n",
    "                "
   ]
  },
  {
   "cell_type": "markdown",
   "metadata": {},
   "source": [
    "2. What are the three different types of Boolean operators?"
   ]
  },
  {
   "cell_type": "markdown",
   "metadata": {},
   "source": [
    "1) AND (&) \n",
    "2) OR (|)\n",
    "3) XOR (^)\n",
    "4) NOT (~)\n",
    "5) << (left shift)\n",
    "6) >> (right shift)\n"
   ]
  },
  {
   "cell_type": "markdown",
   "metadata": {},
   "source": [
    "3. Make a list of each Boolean operator's truth tables (i.e. every possible combination of Boolean values for the operator and what it evaluate )."
   ]
  },
  {
   "cell_type": "markdown",
   "metadata": {},
   "source": [
    "1) AND (&) \n",
    "        A 0 0 1 1\n",
    "        B 0 1 0 1\n",
    "    A & B 0 0 0 1\n",
    "2) OR (|)\n",
    "        A 0 0 1 1\n",
    "        B 0 1 0 1\n",
    "    A | B 0 1 1 1\n",
    "3) XOR (^)\n",
    "        A 0 0 1 1\n",
    "        B 0 1 0 1\n",
    "    A ^ B 0 1 1 0 \n",
    "4) NOT (~)\n",
    "        A = 0\n",
    "       ~A = 1\n",
    "5) << (left shift)\n",
    "        A = 0X00001111\n",
    "     A<<4 = 0X11110000\n",
    "6) >> (right shift)\n",
    "        A = 0X00001111\n",
    "     A>>4 = 0X00000000"
   ]
  },
  {
   "cell_type": "markdown",
   "metadata": {},
   "source": [
    "4. What are the values of the following expressions?\n",
    "(5 > 4) and (3 == 5)\n",
    "not (5 > 4)\n",
    "(5 > 4) or (3 == 5)\n",
    "not ((5 > 4) or (3 == 5))\n",
    "(True and True) and (True == False)\n",
    "(not False) or (not True)\n"
   ]
  },
  {
   "cell_type": "markdown",
   "metadata": {},
   "source": [
    "    1) (5 > 4) and (3 == 5)    -> True\n",
    "    2) not (5 > 4)             -> False\n",
    "    3) (5 > 4) or (3 == 5)     -> True\n",
    "    4) not ((5 > 4) or (3 == 5))->False\n",
    "    5) (True and True) and (True == False)  -> False\n",
    "    6) (not False) or (not True) -> True"
   ]
  },
  {
   "cell_type": "markdown",
   "metadata": {},
   "source": [
    "5. What are the six comparison operators?"
   ]
  },
  {
   "cell_type": "code",
   "execution_count": null,
   "metadata": {},
   "outputs": [],
   "source": [
    "1) equal to             -> ==\n",
    "2) less than            -> <\n",
    "3) less tan and equal to -> <=\n",
    "4) greater than          -> >\n",
    "5) Greater than and equal to -> >=\n",
    "6) NOT equal -> != \n"
   ]
  },
  {
   "cell_type": "code",
   "execution_count": null,
   "metadata": {},
   "outputs": [],
   "source": [
    "6. How do you tell the difference between the equal to and assignment operators?Describe a condition and when you would use one."
   ]
  },
  {
   "cell_type": "code",
   "execution_count": null,
   "metadata": {},
   "outputs": [],
   "source": [
    "1)  equal to -> is a comarison operator ; used when we want to compare LHS and RHS\n",
    "    eg . print the number if it is single digit number.(enter only positive number)\n",
    "        if (x< 10):\n",
    "            print('number is single digit number')\n",
    "2) Assignment operators : when we want to assign the value to any variable we used assignent operator\n",
    "    eg. a= 10\n",
    "        b= 'Inueron will help you to grow'\n",
    "            "
   ]
  },
  {
   "cell_type": "markdown",
   "metadata": {},
   "source": [
    "7. Identify the three blocks in this code:\n",
    "spam = 0\n",
    "    if spam == 10:\n",
    "        print('eggs')\n",
    "    if spam > 5:\n",
    "        print('bacon')\n",
    "    else:\n",
    "        print('ham')\n",
    "        print('spam')\n",
    "        print('spam')\n"
   ]
  },
  {
   "cell_type": "markdown",
   "metadata": {},
   "source": [
    "spam = 0\n",
    "block 1 :\n",
    "    if spam == 10:\n",
    "        print('eggs')\n",
    "block 2 :\n",
    "    if spam > 5:\n",
    "        print('bacon')\n",
    "block 3: \n",
    "    else:\n",
    "        print('ham')\n",
    "        print('spam')\n",
    "        print('spam')\n"
   ]
  },
  {
   "cell_type": "markdown",
   "metadata": {},
   "source": [
    "8. Write code that prints Hello if 1 is stored in spam, prints Howdy if 2 is stored in spam, and prints Greetings! if anything else is stored in spam."
   ]
  },
  {
   "cell_type": "code",
   "execution_count": 1,
   "metadata": {},
   "outputs": [
    {
     "name": "stdout",
     "output_type": "stream",
     "text": [
      "enter value3\n",
      "Greetings!\n"
     ]
    }
   ],
   "source": [
    "spam = int (input('enter value'))\n",
    "if spam == 1:\n",
    "    print(\"Hello\")\n",
    "elif spam == 2:\n",
    "    print(\"Howdy\")\n",
    "else:\n",
    "    print(\"Greetings!\")"
   ]
  },
  {
   "cell_type": "markdown",
   "metadata": {},
   "source": [
    "9.If your programme is stuck in an endless loop, what keys you’ll press?"
   ]
  },
  {
   "cell_type": "markdown",
   "metadata": {},
   "source": [
    "Ctrl+C"
   ]
  },
  {
   "cell_type": "markdown",
   "metadata": {},
   "source": [
    "10.How can you tell the difference between break and continue?"
   ]
  },
  {
   "cell_type": "markdown",
   "metadata": {},
   "source": [
    "break : to exit or break for or while loop \n",
    "        eg, print number if number is not prime \n",
    "        number = int(input(' enter number'))\n",
    "        for i in range(2,number):\n",
    "            if number % i ==0:\n",
    "                print('number is not prime')\n",
    "                break\n",
    "        \n",
    "        \n",
    "continue : to skip code within a loop for certain iteration of loop\n",
    "        eg. print odd number from 1 to 100\n",
    "       \n",
    "        for i in range(1,101):\n",
    "            if (i%2 == 0):\n",
    "                continue\n",
    "            else:\n",
    "                print(i)\n",
    "                "
   ]
  },
  {
   "cell_type": "markdown",
   "metadata": {},
   "source": [
    "11. In a for loop, what is the difference between range(10), range(0, 10), and range(0, 10, 1)?"
   ]
  },
  {
   "cell_type": "code",
   "execution_count": null,
   "metadata": {},
   "outputs": [],
   "source": [
    "Output of all three is same but meaning is as per below:\n",
    "    1) range(10): by default it will start from 1 and end o n (10-1)\n",
    "                0,1,2,.........9\n",
    "    2) range(0,10) : it gives both strting point and end point , from 1 to (10-1)\n",
    "                0,1,2,.........9\n",
    "    3) range(0,10,1): it gives start point , end point and in interval ; strat from 0 endn on  10 with gap/ interval of 1 \n",
    "                0,1,2..........9\n",
    "            "
   ]
  },
  {
   "cell_type": "code",
   "execution_count": null,
   "metadata": {},
   "outputs": [],
   "source": [
    "12. Write a short program that prints the numbers 1 to 10 using a for loop. Then write an equivalent program that prints the numbers 1 to 10 using a while loop."
   ]
  },
  {
   "cell_type": "code",
   "execution_count": 21,
   "metadata": {},
   "outputs": [
    {
     "name": "stdout",
     "output_type": "stream",
     "text": [
      "1\n",
      "2\n",
      "3\n",
      "4\n",
      "5\n",
      "6\n",
      "7\n",
      "8\n",
      "9\n",
      "10\n"
     ]
    }
   ],
   "source": [
    "# program using for loop\n",
    "\n",
    "for i in range(1,11):\n",
    "    print(i)"
   ]
  },
  {
   "cell_type": "code",
   "execution_count": 24,
   "metadata": {},
   "outputs": [
    {
     "name": "stdout",
     "output_type": "stream",
     "text": [
      "1\n",
      "2\n",
      "3\n",
      "4\n",
      "5\n",
      "6\n",
      "7\n",
      "8\n",
      "9\n",
      "10\n"
     ]
    }
   ],
   "source": [
    "# program using while loop\n",
    "i=1\n",
    "while (i<11):\n",
    "    print(i)\n",
    "    i+=1"
   ]
  },
  {
   "cell_type": "code",
   "execution_count": null,
   "metadata": {},
   "outputs": [],
   "source": [
    "13. If you had a function named bacon() inside a module named spam, how would you call it after importing spam?"
   ]
  },
  {
   "cell_type": "code",
   "execution_count": 26,
   "metadata": {},
   "outputs": [
    {
     "name": "stdout",
     "output_type": "stream",
     "text": [
      "hello\n"
     ]
    }
   ],
   "source": [
    "import spam\n",
    "spam.bacon()"
   ]
  },
  {
   "cell_type": "code",
   "execution_count": null,
   "metadata": {},
   "outputs": [],
   "source": []
  },
  {
   "cell_type": "code",
   "execution_count": null,
   "metadata": {},
   "outputs": [],
   "source": []
  }
 ],
 "metadata": {
  "kernelspec": {
   "display_name": "Python 3",
   "language": "python",
   "name": "python3"
  },
  "language_info": {
   "codemirror_mode": {
    "name": "ipython",
    "version": 3
   },
   "file_extension": ".py",
   "mimetype": "text/x-python",
   "name": "python",
   "nbconvert_exporter": "python",
   "pygments_lexer": "ipython3",
   "version": "3.6.5"
  }
 },
 "nbformat": 4,
 "nbformat_minor": 2
}
